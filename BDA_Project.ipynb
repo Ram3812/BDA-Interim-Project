{
  "nbformat": 4,
  "nbformat_minor": 0,
  "metadata": {
    "colab": {
      "name": "BDA_Project.ipynb",
      "provenance": [],
      "authorship_tag": "ABX9TyOjmtkqqckZsXOBbKKdy7tS",
      "include_colab_link": true
    },
    "kernelspec": {
      "name": "python3",
      "display_name": "Python 3"
    }
  },
  "cells": [
    {
      "cell_type": "markdown",
      "metadata": {
        "id": "view-in-github",
        "colab_type": "text"
      },
      "source": [
        "<a href=\"https://colab.research.google.com/github/Ram3812/BDA-Interim-Project/blob/master/BDA_Project.ipynb\" target=\"_parent\"><img src=\"https://colab.research.google.com/assets/colab-badge.svg\" alt=\"Open In Colab\"/></a>"
      ]
    },
    {
      "cell_type": "markdown",
      "metadata": {
        "id": "3ti5hHp3GU8G"
      },
      "source": [
        "# Big data analytics - Interim project\n",
        " * K Sri Bhargav ram\n",
        " * 121014023\n",
        " * ICT"
      ]
    },
    {
      "cell_type": "code",
      "metadata": {
        "id": "jfd11C-qGTWM"
      },
      "source": [
        "import pandas as pd\n",
        "import numpy as np\n"
      ],
      "execution_count": 1,
      "outputs": []
    },
    {
      "cell_type": "code",
      "metadata": {
        "id": "qWuK8QYTNaqJ"
      },
      "source": [
        ""
      ],
      "execution_count": null,
      "outputs": []
    }
  ]
}